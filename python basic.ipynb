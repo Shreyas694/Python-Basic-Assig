{
 "cells": [
  {
   "cell_type": "markdown",
   "id": "e1924975-7930-4f77-a365-13eba8ff4a1f",
   "metadata": {},
   "source": [
    "Python Assignment-1 "
   ]
  },
  {
   "cell_type": "code",
   "execution_count": 1,
   "id": "7615b688-79b6-4537-85b9-e7b5513265cc",
   "metadata": {},
   "outputs": [
    {
     "name": "stdout",
     "output_type": "stream",
     "text": [
      "Hellow ,Alice!\n",
      "Hellow ,Bob!\n",
      "Hellow ,Charlie!\n",
      "Hellow ,David!\n",
      "5\n",
      "4\n",
      "3\n",
      "2\n",
      "1\n"
     ]
    }
   ],
   "source": [
    "# Q1. Explain with an example each when to use a for loop and a while loop.\n",
    "\n",
    "# ANS: \"For Loop\" used in programming to repeatedely execute a block of code.\n",
    "#       A For Loop typically used when we know beforehand how many times we want to repeat the certain block of code.\n",
    "#       Its especially useful when iterating over a sequence like lists,arrays \n",
    "# Example : # Using For Loop we can iterate over a list of names \n",
    "name =  [\"Alice\",\"Bob\",\"Charlie\",\"David\"]\n",
    "for name in name:\n",
    "    print(f\"Hellow ,{name}!\")\n",
    "    \n",
    "# \"While Loop\" on the other hand used when we don't in advance how many times \n",
    "# we need to repeat a block of code \n",
    "# Using While Loop to count fromm 5 to 1 \n",
    "countdown = 5\n",
    "while countdown > 0:\n",
    "    print(countdown)\n",
    "    countdown -= 1"
   ]
  },
  {
   "cell_type": "code",
   "execution_count": null,
   "id": "7984422d-2397-4dcb-8124-0bd49e613100",
   "metadata": {},
   "outputs": [],
   "source": [
    " # Q2. Write a python program to print the sum and product of the first\n",
    "#      10 natural numbers using \"For Loop and While Loop\"\n",
    "# Using \"For Loop\" to calculate the Sum and Product of first 10 natural \n",
    "# numbers\n",
    "n = 10\n",
    "sum_of_numbers = 0 \n",
    "product_of_numbers = 1 \n",
    "\n",
    "for i in range (1 , n + 1):\n",
    "    sum_of_numbers +=i \n",
    "    product_of_numbers *=i\n",
    "\n",
    "print(f\"sum of the first{n} natural numbers : {sum_of_numbers}\")\n",
    "print(f\"product of the first {n} natural numbers : {product_of_numbers}\")\n",
    "\n",
    "while count<= n :\n",
    "    sum_of_numbers += count \n",
    "    product_of_numbers *= count \n",
    "    count +=1\n",
    "    \n",
    "print(f\"sum of the first{n} natural numbers : {sum_of_numbers}\")\n",
    "print(f\"product of the first {n} natural numbers : {product_of_numbers}\")"
   ]
  },
  {
   "cell_type": "code",
   "execution_count": null,
   "id": "93445d2e-cb45-4708-b9d1-e7dde7b73c9f",
   "metadata": {
    "tags": []
   },
   "outputs": [],
   "source": [
    "# Q3. Create a python program to compute the electricity bill for a household.\n",
    "# The per-unit charges in rupees are as follows: For the first 100 units, \n",
    "# the user will be charged Rs. 4.5 per\n",
    "# unit, for the next 100 units, the user will be charged Rs. 6 per unit, \n",
    "# and for the next 100 units, the user will\n",
    "# be charged Rs. 10 per unit, After 300 units and above the \n",
    "# user will be charged Rs. 20 per unit.\n",
    "# You are required to take the units of electricity consumed \n",
    "# in a month from the user as input.\n",
    "# Your program must pass this test case: when the unit \n",
    "# of electricity consumed by the user in a month is\n",
    "# 310, the total electricity bill should be 2250.\n",
    "\n",
    "# ANS: Input the units of electricity consumed from the user\n",
    "\n",
    "units_consumed = int(input(\"Enter the units of electricity consumed in a month: \" ))\n",
    "\n",
    "# Initialize variables to store the total electricity bill\n",
    "total_bill = 0\n",
    "\n",
    "# Define the charges per unit \n",
    "charge_1 = 4.5 \n",
    "charge_2 = 6.0\n",
    "charge_3 = 10.0\n",
    "charge_4 = 20.0\n",
    "    \n",
    "# Calculate the elctricity bill based on the consumed units \n",
    "\n",
    "if units_consumed <= 100 :\n",
    "    total_bill = units_consumed * charge_1\n",
    "elif units_consumed <=200:\n",
    "    total_bill = (100 * charge_1) + ((units_consumed - 100) * charge_2)\n",
    "elif units_consumed <= 300:\n",
    "    total_bill = (100 * charge_1) + (100 * charge_2) + ((units_consumed - 200) * charge_3)\n",
    "else:\n",
    "    total_bill = (100 * charge_1) + (100 * charge_2) + (100 * charge_3) + ((units_consumed - 300) * charge_4)\n",
    "\n",
    "# Print the total electricity bill\n",
    "print(f\"Total electricity bill: Rs. {total_bill}\")"
   ]
  },
  {
   "cell_type": "code",
   "execution_count": null,
   "id": "cdc0e8cb-a54e-4bce-8e0c-8a5e552c7350",
   "metadata": {},
   "outputs": [],
   "source": [
    "# Q4. Create a list of numbers from 1 to 100. \n",
    "# Use for loop and while loop to calculate the cube of each\n",
    "# number and if the cube of that number is divisible by 4 or 5 then \n",
    "# append that number in a list and print that list.\n",
    "\n",
    "\n",
    "ANS:\n",
    "# Using a for loop to calculate cubes and filter based on divisibility\n",
    "cubes_divisible_by_4_or_5 = []\n",
    "\n",
    "for num in range(1, 101):\n",
    "    cube = num ** 3\n",
    "    if cube % 4 == 0 or cube % 5 == 0:\n",
    "        cubes_divisible_by_4_or_5.append(num)\n",
    "\n",
    "print(cubes_divisible_by_4_or_5)\n",
    "\n",
    "# Using a while loop to calculate cubes and filter based on divisibility\n",
    "cubes_divisible_by_4_or_5 = []\n",
    "num = 1\n",
    "\n",
    "while num <= 100:\n",
    "    cube = num ** 3\n",
    "    if cube % 4 == 0 or cube % 5 == 0:\n",
    "        cubes_divisible_by_4_or_5.append(num)\n",
    "    num += 1\n",
    "\n",
    "print(cubes_divisible_by_4_or_5)"
   ]
  },
  {
   "cell_type": "code",
   "execution_count": null,
   "id": "57554903-7e85-4ea3-bed7-dfb62f675cfa",
   "metadata": {},
   "outputs": [],
   "source": [
    "#  Q5. Write a program to filter count vowels in the below-given string.\n",
    "#  string = \"I want to become a data scientist\" \n",
    " # ANS: -->\n",
    "# Input string\n",
    "string = \"I want to become a data scientist\"\n",
    "\n",
    "# Convert the string to lowercase to make the counting case-insensitive\n",
    "string = string.lower()\n",
    "\n",
    "# Initialize a variable to count the vowels\n",
    "vowel_count = 0\n",
    "\n",
    "# Define a set of vowels\n",
    "vowels = \"aeiou\"\n",
    "\n",
    "# Iterate through the characters in the string\n",
    "for char in string:\n",
    "    if char in vowels:\n",
    "        vowel_count += 1\n",
    "\n",
    "# Print the count of vowels\n",
    "print(\"Number of vowels in the string:\", vowel_count)"
   ]
  },
  {
   "cell_type": "code",
   "execution_count": null,
   "id": "77e7387a-a441-423e-b577-38b352f6bf4b",
   "metadata": {},
   "outputs": [],
   "source": []
  }
 ],
 "metadata": {
  "kernelspec": {
   "display_name": "Python 3 (ipykernel)",
   "language": "python",
   "name": "python3"
  },
  "language_info": {
   "codemirror_mode": {
    "name": "ipython",
    "version": 3
   },
   "file_extension": ".py",
   "mimetype": "text/x-python",
   "name": "python",
   "nbconvert_exporter": "python",
   "pygments_lexer": "ipython3",
   "version": "3.10.8"
  },
  "toc-autonumbering": true,
  "toc-showmarkdowntxt": true
 },
 "nbformat": 4,
 "nbformat_minor": 5
}
